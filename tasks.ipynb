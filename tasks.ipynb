{
 "cells": [
  {
   "cell_type": "code",
   "execution_count": 1,
   "id": "2599f9c0-aaa4-4acc-95b7-a5efa36cbe64",
   "metadata": {
    "panel-layout": {
     "height": 117.75,
     "visible": true,
     "width": 100
    }
   },
   "outputs": [
    {
     "data": {
      "text/plain": [
       "[4, 4, 6, 8]"
      ]
     },
     "execution_count": 1,
     "metadata": {},
     "output_type": "execute_result"
    }
   ],
   "source": [
    "x = [ 4, 4, 6, 8]\n",
    "x"
   ]
  },
  {
   "cell_type": "code",
   "execution_count": 2,
   "id": "ffdb6202-b06b-427f-8cae-c97d7ff61ddb",
   "metadata": {
    "editable": true,
    "panel-layout": {
     "height": 0,
     "visible": true,
     "width": 100
    },
    "slideshow": {
     "slide_type": ""
    },
    "tags": []
   },
   "outputs": [
    {
     "name": "stdout",
     "output_type": "stream",
     "text": [
      "8\n"
     ]
    }
   ],
   "source": [
    "# this is a coment\n",
    "x=5+3\n",
    "print(x)"
   ]
  },
  {
   "cell_type": "markdown",
   "id": "7cffc4e8-cf2a-43da-be7c-3f923f8dc41b",
   "metadata": {
    "panel-layout": {
     "height": 51.140625,
     "visible": true,
     "width": 100
    }
   },
   "source": [
    "Hello World!!"
   ]
  }
 ],
 "metadata": {
  "kernelspec": {
   "display_name": "Python 3 (ipykernel)",
   "language": "python",
   "name": "python3"
  },
  "language_info": {
   "codemirror_mode": {
    "name": "ipython",
    "version": 3
   },
   "file_extension": ".py",
   "mimetype": "text/x-python",
   "name": "python",
   "nbconvert_exporter": "python",
   "pygments_lexer": "ipython3",
   "version": "3.12.7"
  },
  "panel-cell-order": [
   "2599f9c0-aaa4-4acc-95b7-a5efa36cbe64",
   "ffdb6202-b06b-427f-8cae-c97d7ff61ddb",
   "7cffc4e8-cf2a-43da-be7c-3f923f8dc41b"
  ]
 },
 "nbformat": 4,
 "nbformat_minor": 5
}
